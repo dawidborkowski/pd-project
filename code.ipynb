{
 "cells": [
  {
   "metadata": {},
   "cell_type": "markdown",
   "source": [
    "# Prospecção de Dados (Data Mining) DI/FCUL\n",
    "\n",
    "## Final Project (MC/DI/FCUL - 2024)\n",
    "\n",
    "### GROUP:`14`\n",
    "\n",
    "* Dawid Borkowski, 63302 - 20 Hours worked on the project\n",
    "* Sylwia Sielska, 63303 - 20 Hours worked on the project"
   ],
   "id": "8801cfeac5e33c87"
  },
  {
   "metadata": {},
   "cell_type": "markdown",
   "source": "### Loading and Transforming the Data",
   "id": "63236dbf0e597418"
  },
  {
   "cell_type": "code",
   "id": "initial_id",
   "metadata": {
    "collapsed": true
   },
   "source": [
    "# imports\n",
    "import pandas as pd\n",
    "import numpy as np\n",
    "import pickle\n",
    "from scipy.sparse import dok_array, csr_array\n",
    "from sklearn.model_selection import train_test_split\n",
    "from sklearn.metrics import mean_absolute_error, mean_squared_error, r2_score\n",
    "import matplotlib.pyplot as plt"
   ],
   "outputs": [],
   "execution_count": null
  },
  {
   "metadata": {},
   "cell_type": "code",
   "source": [
    "# read the data\n",
    "columns_names = [\"protein\", \"molecule\", \"activity\"]\n",
    "activity = pd.read_csv('./activity_train.csv', names=columns_names)\n",
    "activity['molecule'] = activity['molecule'].str.strip()\n",
    "activity_test = pd.read_csv('./activity_test_blanked.csv', names=columns_names)\n",
    "activity_test['molecule'] = activity_test['molecule'].str.strip()\n",
    "mol_bits = pickle.load(open('./mol_bits.pkl', 'rb'))"
   ],
   "id": "4e98ca2bbebe3c31",
   "outputs": [],
   "execution_count": null
  },
  {
   "metadata": {},
   "cell_type": "code",
   "source": [
    "# split the dataset into training and validation\n",
    "activity_train, activity_validate = train_test_split(activity, test_size=0.1, random_state=42)"
   ],
   "id": "929219b7cf2ff038",
   "outputs": [],
   "execution_count": null
  },
  {
   "metadata": {},
   "cell_type": "code",
   "source": [
    "# function to find unique features of the molecules\n",
    "def find_unique_features(data):\n",
    "    unique_features = set()\n",
    "    for item in data.values():\n",
    "        unique_features = unique_features.union(set(item))\n",
    "    return unique_features"
   ],
   "id": "97279e2cb5dbacf",
   "outputs": [],
   "execution_count": null
  },
  {
   "metadata": {},
   "cell_type": "code",
   "source": [
    "# find unique features in the mol_bits dataset\n",
    "unique_molecule_features = find_unique_features(mol_bits)"
   ],
   "id": "92795e4ea59ee335",
   "outputs": [],
   "execution_count": null
  },
  {
   "metadata": {},
   "cell_type": "code",
   "source": [
    "# print some data about our datasets\n",
    "print(f\"Unique proteins in train: {activity_train['protein'].nunique()}\")\n",
    "print(f\"Unique molecules in train: {activity_train['molecule'].nunique()}\")\n",
    "print(f\"Unique proteins in test: {activity_train['protein'].nunique()}\")\n",
    "print(f\"Unique molecules in test: {activity_train['molecule'].nunique()}\")\n",
    "print(f\"Unique molecules in mol_bits: {len(mol_bits.keys())}\")\n",
    "print(f\"Unique features in mol_bits: {len(unique_molecule_features)}\")"
   ],
   "id": "d54d15f06efd8549",
   "outputs": [],
   "execution_count": null
  },
  {
   "metadata": {},
   "cell_type": "code",
   "source": [
    "# functions to load mol_bits into a sparse matrix\n",
    "def make_sparse_matrix(data, number_of_features):\n",
    "    molecules = list(data.keys())\n",
    "    N = len(molecules)\n",
    "    sparse_matrix = dok_array((N, number_of_features), dtype=np.int8)\n",
    "    for i, molecule in enumerate(molecules):\n",
    "        features_indexes = data[molecule]\n",
    "        sparse_matrix[i, features_indexes] = 1\n",
    "    return csr_array(sparse_matrix)"
   ],
   "id": "f75aea4052c60a41",
   "outputs": [],
   "execution_count": null
  },
  {
   "metadata": {},
   "cell_type": "code",
   "source": [
    "# load mol_bits into a sparse array\n",
    "sparse_mol_bits = make_sparse_matrix(mol_bits, len(unique_molecule_features))"
   ],
   "id": "5e967a9fc4adc4ed",
   "outputs": [],
   "execution_count": null
  },
  {
   "metadata": {},
   "cell_type": "code",
   "source": [
    "# function to make a dictionary mapping molecule number to its name\n",
    "def get_number_molecule_dictionary(data):\n",
    "    molecules = list(data.keys())\n",
    "    return dict(zip(range(len(molecules)), molecules))\n",
    "\n",
    "# function to make a dictionary mapping molecule name to its number\n",
    "def get_molecule_number_dictionary(data):\n",
    "    molecules = list(data.keys())\n",
    "    return dict(zip(molecules, range(len(molecules))))"
   ],
   "id": "425c29fee8f5be94",
   "outputs": [],
   "execution_count": null
  },
  {
   "metadata": {},
   "cell_type": "code",
   "source": [
    "# create both dictionaries\n",
    "molecule_number_dictionary = get_molecule_number_dictionary(mol_bits)\n",
    "number_molecule_dictionary = get_number_molecule_dictionary(mol_bits)"
   ],
   "id": "6621f7a6575002c2",
   "outputs": [],
   "execution_count": null
  },
  {
   "metadata": {},
   "cell_type": "markdown",
   "source": "### LSHT - Preparation for Making Predictions",
   "id": "e0004b51c243e4d"
  },
  {
   "metadata": {},
   "cell_type": "code",
   "source": [
    "# functions to calculate Jaccard similarity of two molecules based on their names\n",
    "def calculate_molecule_similarity(molecule1, molecule2):\n",
    "    molecule1_features = set(mol_bits[molecule1])\n",
    "    molecule2_features = set(mol_bits[molecule2])\n",
    "    return len(molecule1_features & molecule2_features) / len(molecule1_features | molecule2_features)"
   ],
   "id": "ba7984859a6b0dc4",
   "outputs": [],
   "execution_count": null
  },
  {
   "metadata": {},
   "cell_type": "code",
   "source": [
    "# function to make buckets\n",
    "def make_buckets(data, permutations, N, M, B, R, NB):\n",
    "    buckets = {}\n",
    "    all_molecules = set(range(N))\n",
    "    for band in range(B):\n",
    "        signature_matrix = np.zeros((R, N), dtype=\"int32\")\n",
    "        for row in range(R):\n",
    "            permutation = permutations[band * R + row]\n",
    "            L = all_molecules.copy()\n",
    "            i = 0\n",
    "            while len(L) > 0:\n",
    "                feature = permutation[i]\n",
    "                molecules_found = data[feature] & L\n",
    "                if len(molecules_found) > 0:\n",
    "                    signature_matrix[row, list(molecules_found)] = i\n",
    "                    L = L - molecules_found\n",
    "                i += 1\n",
    "                if i == M:\n",
    "                    signature_matrix[row, list(L)] = i\n",
    "                    L = {}\n",
    "        for molecule in range(N):\n",
    "            bucket = hash(tuple(signature_matrix[:, molecule])) % NB\n",
    "            buckets.setdefault((band, bucket), set()).add(molecule)\n",
    "    return buckets"
   ],
   "id": "c75540b78d2a13e",
   "outputs": [],
   "execution_count": null
  },
  {
   "metadata": {},
   "cell_type": "code",
   "source": [
    "# function to make the permutations\n",
    "def make_permutations(M, B, R):\n",
    "    P = B * R\n",
    "    return [np.random.permutation(M) for _ in range(P)]"
   ],
   "id": "9a47b64087c0eed4",
   "outputs": [],
   "execution_count": null
  },
  {
   "metadata": {},
   "cell_type": "code",
   "source": [
    "# function to calculate the LSHT\n",
    "def LSHT(data, B, R, permutations, NB=28934501):\n",
    "    N, M = data.shape\n",
    "    transposed_data = data.T\n",
    "    rows, columns = transposed_data.nonzero()\n",
    "    molecules_as_sets = [set() for _ in range(M)]\n",
    "    for row, column in zip(rows, columns):\n",
    "        molecules_as_sets[row].add(column)\n",
    "    buckets = make_buckets(molecules_as_sets, permutations, N, M, B, R, NB)\n",
    "    return buckets"
   ],
   "id": "d3044d86a6e77d10",
   "outputs": [],
   "execution_count": null
  },
  {
   "metadata": {},
   "cell_type": "markdown",
   "source": "### Functions for Making Predictions",
   "id": "da4f313aefcd66b"
  },
  {
   "metadata": {},
   "cell_type": "code",
   "source": [
    "# function to retrieve features of a single molecule \n",
    "def retrieve_molecule_features(molecule_name):\n",
    "    molecule_number = molecule_number_dictionary[molecule_name]\n",
    "    return sparse_mol_bits[[molecule_number], :]"
   ],
   "id": "79cb9ec20ed0528c",
   "outputs": [],
   "execution_count": null
  },
  {
   "metadata": {},
   "cell_type": "code",
   "source": [
    "# function to select potentially similar molecules\n",
    "# important to use the same permutation list as in LSHT earlier\n",
    "def find_candidates(buckets, molecule_name, permutations):\n",
    "    molecule_features = retrieve_molecule_features(molecule_name)\n",
    "    buckets_molecule = LSHT(molecule_features, lsht_bands, lsht_rows, permutations)\n",
    "    candidates = set()\n",
    "    for key in buckets_molecule.keys():\n",
    "        items = list(buckets[key])\n",
    "        for item in items:\n",
    "            candidates.add(item)\n",
    "    # remove the molecule itself\n",
    "    candidates.remove(molecule_number_dictionary[molecule_name])\n",
    "    return candidates"
   ],
   "id": "3968d0fc6f142fa5",
   "outputs": [],
   "execution_count": null
  },
  {
   "metadata": {},
   "cell_type": "code",
   "source": [
    "# function to get candidates activity with given protein and filter out those that didn't bind with it\n",
    "def find_candidates_with_activity(activities, candidates, protein):\n",
    "    candidates_with_activity = {}\n",
    "    protein_bindings = activities[activities['protein'] == protein]\n",
    "    for candidate in list(candidates):\n",
    "        try:\n",
    "            molecule = number_molecule_dictionary[candidate]\n",
    "            candidate_activity = protein_bindings[protein_bindings['molecule'] == molecule]\n",
    "            if not candidate_activity.empty:\n",
    "                activity_value = candidate_activity['activity'].values[0]\n",
    "                candidates_with_activity[candidate] = activity_value\n",
    "        # if the molecule didn't bind with the protein we are looking for\n",
    "        except KeyError:\n",
    "            pass\n",
    "    return candidates_with_activity"
   ],
   "id": "4595c0f6d0d25b0f",
   "outputs": [],
   "execution_count": null
  },
  {
   "metadata": {},
   "cell_type": "code",
   "source": [
    "# function to make pairs using candidates\n",
    "def make_pairs(candidates, molecule_name):\n",
    "    pairs = []\n",
    "    molecule_number = molecule_number_dictionary[molecule_name]\n",
    "    for candidate in candidates.keys():\n",
    "        pairs.append((molecule_number, candidate))\n",
    "    return pairs"
   ],
   "id": "1d509d02ba0cc91b",
   "outputs": [],
   "execution_count": null
  },
  {
   "metadata": {},
   "cell_type": "code",
   "source": [
    "# function to calculate pairs similarity:\n",
    "def calculate_pairs_similarity(pairs):\n",
    "    pairs_with_similarity = {}\n",
    "    for pair in pairs:\n",
    "        pairs_with_similarity[pair] = calculate_molecule_similarity(number_molecule_dictionary[pair[0]], number_molecule_dictionary[pair[1]])\n",
    "    return pairs_with_similarity"
   ],
   "id": "75fecc90c872a1e4",
   "outputs": [],
   "execution_count": null
  },
  {
   "metadata": {},
   "cell_type": "code",
   "source": [
    "# function to make predictions\n",
    "def make_predictions(row, activities, buckets, permutations, threshold_value):\n",
    "    molecule = row['molecule']\n",
    "    protein = row['protein']\n",
    "    \n",
    "    # find similar molecules\n",
    "    candidates = find_candidates(buckets, molecule, permutations)\n",
    "    \n",
    "    # out of similar molecules select those that bound with given protein and get their activity score\n",
    "    candidates_with_activity = find_candidates_with_activity(activities, candidates, protein)\n",
    "\n",
    "    # use those candidates to make pairs\n",
    "    pairs = make_pairs(candidates_with_activity, molecule)\n",
    "    \n",
    "    # calculate similarity of those pairs\n",
    "    pairs_with_sims = calculate_pairs_similarity(pairs)\n",
    "    \n",
    "    # filter those with similarity higher than threshold\n",
    "    filtered_pairs = {key: value for key, value in pairs_with_sims.items() if value > threshold_value}\n",
    "    \n",
    "    # calculate prediction based on similarity and activity\n",
    "    prediction = 0\n",
    "    for key in filtered_pairs.keys():\n",
    "        prediction += candidates_with_activity[key[1]] * filtered_pairs[key]\n",
    "    \n",
    "    # if it is 0 it means we are unable to make prediction because we didn't find any similar molecules\n",
    "    if prediction != 0:\n",
    "        prediction = prediction / sum(filtered_pairs.values())\n",
    "        \n",
    "    return round(prediction, 2)"
   ],
   "id": "b9531d6dcba3e445",
   "outputs": [],
   "execution_count": null
  },
  {
   "metadata": {},
   "cell_type": "markdown",
   "source": "### Evaluating the Solution",
   "id": "7d6ef5164b8be0e7"
  },
  {
   "metadata": {},
   "cell_type": "code",
   "source": [
    "# define variables being the number of bands and rows\n",
    "lsht_bands = 20\n",
    "lsht_rows = 5"
   ],
   "id": "ed3b336b08773904",
   "outputs": [],
   "execution_count": null
  },
  {
   "metadata": {},
   "cell_type": "code",
   "source": [
    "# obtain the list of permutations\n",
    "permutation_list = make_permutations(len(unique_molecule_features), lsht_bands, lsht_rows)"
   ],
   "id": "c844c921040a194b",
   "outputs": [],
   "execution_count": null
  },
  {
   "metadata": {},
   "cell_type": "code",
   "source": [
    "# calculate the buckets\n",
    "all_buckets = LSHT(sparse_mol_bits, lsht_bands, lsht_rows, permutation_list)"
   ],
   "id": "3fd0eab67b785251",
   "outputs": [],
   "execution_count": null
  },
  {
   "metadata": {},
   "cell_type": "code",
   "source": [
    "# make predictions for different threshold levels and calculate metrics\n",
    "\n",
    "threshold_list = [0.2, 0.3, 0.4, 0.5, 0.6, 0.7, 0.75, 0.8]\n",
    "\n",
    "# lists for keeping the results\n",
    "number_of_missing_predictions = []\n",
    "maes = []\n",
    "mses = []\n",
    "rmses = []\n",
    "r2s = []\n",
    "maes_without_missing = []\n",
    "mses_without_missing = []\n",
    "rmses_without_missing = []\n",
    "r2s_without_missing = []\n",
    "\n",
    "for threshold in threshold_list:\n",
    "    # make a copy of the validation set in order to restore it later\n",
    "    activity_validate_copy = activity_validate.copy()\n",
    "    # reset all activity scores\n",
    "    activity_validate_copy['activity'] = 0\n",
    "\n",
    "    # make predictions\n",
    "    activity_validate_copy['activity'] = activity_validate_copy.apply(make_predictions, axis=1, args=(activity_train, all_buckets, permutation_list, threshold))\n",
    "\n",
    "    # calculate the number of missing predictions\n",
    "    number_of_missing_predictions.append(activity_validate_copy[activity_validate_copy['activity'] == 0]['activity'].count())\n",
    "\n",
    "    # get results, compare them and calculate errors\n",
    "    actual_values = activity_validate['activity'].to_numpy()\n",
    "    predicted_values = activity_validate_copy['activity'].to_numpy()\n",
    "    mae = mean_absolute_error(actual_values, predicted_values)\n",
    "    maes.append(round(mae, 2))\n",
    "    mse = mean_squared_error(actual_values, predicted_values)\n",
    "    mses.append(round(mse, 2))\n",
    "    rmse = np.sqrt(mse)\n",
    "    rmses.append(round(rmse, 2))\n",
    "    r2 = r2_score(actual_values, predicted_values)\n",
    "    r2s.append(round(r2, 2))\n",
    "    \n",
    "    # get results where predictions were made, compare them and calculate errors\n",
    "    mask = activity_validate_copy['activity'] != 0\n",
    "    actual_values = activity_validate['activity'][mask]\n",
    "    predicted_values = activity_validate_copy['activity'][mask]\n",
    "    mae = mean_absolute_error(actual_values, predicted_values)\n",
    "    maes_without_missing.append(round(mae, 2))\n",
    "    mse = mean_squared_error(actual_values, predicted_values)\n",
    "    mses_without_missing.append(round(mse, 2))\n",
    "    rmse = np.sqrt(mse)\n",
    "    rmses_without_missing.append(round(rmse, 2))\n",
    "    r2 = r2_score(actual_values, predicted_values)\n",
    "    r2s_without_missing.append(round(r2, 2))\n"
   ],
   "id": "67d4cdf4ff896d43",
   "outputs": [],
   "execution_count": null
  },
  {
   "metadata": {},
   "cell_type": "code",
   "source": [
    "# print all the results\n",
    "print('MAE:', maes)\n",
    "print('MSE:', mses)\n",
    "print('RMSE:', rmses)\n",
    "print('R2:', r2s)\n",
    "print('MAE_without_missing:', maes_without_missing)\n",
    "print('MSE_without_missing:', mses_without_missing)\n",
    "print('RMSE_without_missing:', rmses_without_missing)\n",
    "print('R2_without_missing:', r2s_without_missing)"
   ],
   "id": "6bc75653c25d99d0",
   "outputs": [],
   "execution_count": null
  },
  {
   "metadata": {},
   "cell_type": "markdown",
   "source": "### Drawing Graphs",
   "id": "d191898a8c4dc233"
  },
  {
   "metadata": {},
   "cell_type": "code",
   "source": [
    "# draw plot with candidate pairs probability\n",
    "def draw_similarity_plot(B, R):\n",
    "    S = np.arange(0, 1.0, .01)\n",
    "    P = 1 - (1 - S ** R) ** B\n",
    "    plt.figure(figsize=(7, 5))\n",
    "    plt.plot(S, P)\n",
    "    plt.title(f\"Candidate Pairs Probability for {B} Bands and {R} Rows\")\n",
    "    plt.xlabel(\"Molecule Similarity\")\n",
    "    plt.ylabel(\"Probability of Being a Candidate Pair\")\n",
    "    plt.grid()\n",
    "    plt.show()\n",
    "\n",
    "draw_similarity_plot(20, 5)"
   ],
   "id": "1f2977184ca16f34",
   "outputs": [],
   "execution_count": null
  },
  {
   "metadata": {},
   "cell_type": "code",
   "source": [
    "# draw plot showing number of missing predictions vs applied threshold\n",
    "plt.figure(figsize=(7, 5))\n",
    "plt.plot(threshold_list, number_of_missing_predictions)\n",
    "plt.title(\"Number of Missing Predictions vs Similarity Threshold\")\n",
    "plt.xlabel(\"Similarity Threshold\")\n",
    "plt.ylabel(\"Number of Missing Predictions\")\n",
    "plt.grid()\n",
    "plt.show()"
   ],
   "id": "48372ae183ea6cd5",
   "outputs": [],
   "execution_count": null
  },
  {
   "metadata": {},
   "cell_type": "code",
   "source": [
    "# draw plot showing different error values vs applied threshold\n",
    "plt.figure(figsize=(7, 5))\n",
    "plt.plot(threshold_list, maes, label='MAE including missing predictions')\n",
    "plt.plot(threshold_list, maes_without_missing, label='MAE without missing predictions')\n",
    "plt.plot(threshold_list, rmses, label='RMSE including missing predictions')\n",
    "plt.plot(threshold_list, rmses_without_missing, label='RMSE without missing predictions')\n",
    "plt.title(\"Error Values vs Similarity Threshold\")\n",
    "plt.xlabel(\"Similarity Threshold\")\n",
    "plt.ylabel(\"Error Value\")\n",
    "plt.grid()\n",
    "plt.legend()\n",
    "plt.show()"
   ],
   "id": "2d25b09c61cf8121",
   "outputs": [],
   "execution_count": null
  },
  {
   "metadata": {},
   "cell_type": "code",
   "source": [
    "# draw plot showing RMSE error values and the number of missing predictions vs applied threshold\n",
    "fig, ax1 = plt.subplots()\n",
    "\n",
    "# RMSE error\n",
    "ax1.plot(threshold_list, rmses_without_missing, 'g-', label='RMSE')\n",
    "ax1.set_xlabel('Similarity Threshold')\n",
    "ax1.set_ylabel('RMSE Value', color='g')\n",
    "ax1.tick_params(axis='y', labelcolor='g')\n",
    "ax1.grid(True)\n",
    "\n",
    "# Number of Missing Predictions\n",
    "ax2 = ax1.twinx()\n",
    "ax2.plot(threshold_list, number_of_missing_predictions, 'b-', label='Missing Predictions')\n",
    "ax2.set_ylabel('Number of Missing Predictions', color='b')\n",
    "ax2.tick_params(axis='y', labelcolor='b')\n",
    "ax2.grid(True, linestyle='--', linewidth=0.5)\n",
    "\n",
    "ax1.legend(loc='upper left')\n",
    "ax2.legend(loc='upper right')\n",
    "\n",
    "plt.title('RMSE and Missing Predictions vs Similarity Threshold')\n",
    "plt.show()"
   ],
   "id": "e86a0163ce1253eb",
   "outputs": [],
   "execution_count": null
  },
  {
   "metadata": {},
   "cell_type": "markdown",
   "source": "### Making Predictions for the Test Dataset",
   "id": "3292757c04b5b532"
  },
  {
   "metadata": {},
   "cell_type": "code",
   "source": [
    "# define variables being the number of bands and rows\n",
    "lsht_bands = 20\n",
    "lsht_rows = 5"
   ],
   "id": "b7357815a5f99406",
   "outputs": [],
   "execution_count": null
  },
  {
   "metadata": {},
   "cell_type": "code",
   "source": [
    "# obtain the list of permutations\n",
    "permutation_list = make_permutations(len(unique_molecule_features), lsht_bands, lsht_rows)"
   ],
   "id": "754e68219402b19d",
   "outputs": [],
   "execution_count": null
  },
  {
   "metadata": {},
   "cell_type": "code",
   "source": [
    "# calculate the buckets\n",
    "all_buckets = LSHT(sparse_mol_bits, lsht_bands, lsht_rows, permutation_list)"
   ],
   "id": "940aafe358c1a69d",
   "outputs": [],
   "execution_count": null
  },
  {
   "metadata": {},
   "cell_type": "code",
   "source": [
    "# make a copy of activity test dataset\n",
    "activity_test_copy = activity_test.copy()"
   ],
   "id": "c272cfcf4c35aa2e",
   "outputs": [],
   "execution_count": null
  },
  {
   "metadata": {},
   "cell_type": "code",
   "source": [
    "# make predictions - using whole activity_train.csv dataset and similarity threshold equal to 0.5\n",
    "activity_test_copy['activity'] = activity_test_copy.apply(make_predictions, axis=1, args=(activity, all_buckets, permutation_list, 0.5))"
   ],
   "id": "e3f907ec0b122630",
   "outputs": [],
   "execution_count": null
  },
  {
   "metadata": {},
   "cell_type": "code",
   "source": [
    "# display our predictions\n",
    "activity_test_copy"
   ],
   "id": "87380aba0dd2aaee",
   "outputs": [],
   "execution_count": null
  },
  {
   "metadata": {},
   "cell_type": "code",
   "source": [
    "# save to a file\n",
    "activity_test_copy.to_csv('PD_PREDS-14.csv', index=False, header=False)"
   ],
   "id": "c70af06ec241cfc0",
   "outputs": [],
   "execution_count": null
  }
 ],
 "metadata": {
  "kernelspec": {
   "display_name": "Python 3",
   "language": "python",
   "name": "python3"
  },
  "language_info": {
   "codemirror_mode": {
    "name": "ipython",
    "version": 2
   },
   "file_extension": ".py",
   "mimetype": "text/x-python",
   "name": "python",
   "nbconvert_exporter": "python",
   "pygments_lexer": "ipython2",
   "version": "2.7.6"
  }
 },
 "nbformat": 4,
 "nbformat_minor": 5
}
